{
 "cells": [
  {
   "cell_type": "code",
   "execution_count": null,
   "metadata": {},
   "outputs": [],
   "source": [
    "from component.tiles import *"
   ]
  },
  {
   "cell_type": "code",
   "execution_count": null,
   "metadata": {},
   "outputs": [],
   "source": [
    "parameters = Parameters()\n",
    "planet_parameters = PlanetParameters()\n",
    "map_ = AlertMap(parameters=parameters, planet_parameters=planet_parameters)\n",
    "map_.layout.height=\"100vh\""
   ]
  },
  {
   "cell_type": "code",
   "execution_count": null,
   "metadata": {},
   "outputs": [],
   "source": [
    "process_tile = sw.Tile(id_='ui', title='', inputs=[map_])\n",
    "\n",
    "appBar = sw.AppBar(title='Planet active fires explorer')\n",
    "\n",
    "content = [\n",
    "    process_tile,\n",
    "]\n",
    "\n",
    "#create a drawer \n",
    "item_process = sw.DrawerItem('Map', \n",
    "                           'mdi-map-marker-check', \n",
    "                           card=\"ui\").display_tile(content)\n",
    "\n",
    "code_link = 'https://github.com/ingdanielguerrero/planet_active_fires_explorer'\n",
    "wiki_link = 'https://github.com/ingdanielguerrero/planet_active_fires_explorer/blob/main/README.md'\n",
    "issue = 'https://github.com/ingdanielguerrero/planet_active_fires_explorer/issues/new'\n",
    "\n",
    "items = [\n",
    "    item_process,\n",
    "]\n",
    "\n",
    "drawer = sw.NavDrawer(items, \n",
    "                      code = code_link, \n",
    "                      wiki = wiki_link, \n",
    "                      issue = issue, \n",
    "                      mini_variant=True).display_drawer(appBar.toggle_button)\n",
    "\n",
    "#build the app \n",
    "app = sw.App(\n",
    "    appBar = appBar,\n",
    "    tiles=content, \n",
    "    navDrawer=drawer\n",
    ").show_tile('ui')\n",
    "#display the app\n",
    "app"
   ]
  }
 ],
 "metadata": {
  "kernelspec": {
   "display_name": "Python 3",
   "language": "python",
   "name": "python3"
  },
  "language_info": {
   "codemirror_mode": {
    "name": "ipython",
    "version": 3
   },
   "file_extension": ".py",
   "mimetype": "text/x-python",
   "name": "python",
   "nbconvert_exporter": "python",
   "pygments_lexer": "ipython3",
   "version": "3.6.9"
  }
 },
 "nbformat": 4,
 "nbformat_minor": 4
}
