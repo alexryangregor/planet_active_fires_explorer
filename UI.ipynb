{
 "cells": [
  {
   "cell_type": "code",
   "execution_count": null,
   "metadata": {},
   "outputs": [],
   "source": [
    "from ipyleaflet import WidgetControl\n",
    "from component.tiles import AlertMap, PanelTile\n",
    "from component.model import AlertModel\n",
    "import sepal_ui.sepalwidgets as sw"
   ]
  },
  {
   "cell_type": "code",
   "execution_count": null,
   "metadata": {},
   "outputs": [],
   "source": [
    "model = AlertModel()"
   ]
  },
  {
   "cell_type": "code",
   "execution_count": null,
   "metadata": {},
   "outputs": [],
   "source": [
    "map_ = AlertMap(model)"
   ]
  },
  {
   "cell_type": "code",
   "execution_count": null,
   "metadata": {},
   "outputs": [],
   "source": [
    "panel_tile = PanelTile(map_, model)"
   ]
  },
  {
   "cell_type": "code",
   "execution_count": null,
   "metadata": {},
   "outputs": [],
   "source": [
    "control_panel = WidgetControl(\n",
    "    widget=panel_tile, \n",
    "    position='bottomright', \n",
    "    transparent_bg=True\n",
    ")\n",
    "map_.controls  = tuple(\n",
    "    [control_panel] + [c for c in map_.controls]\n",
    ")\n",
    "map_.layout.height=\"100vh\""
   ]
  },
  {
   "cell_type": "code",
   "execution_count": null,
   "metadata": {},
   "outputs": [],
   "source": [
    "process_tile = sw.Tile(id_='ui', title='', inputs=[map_])\n",
    "\n",
    "appBar = sw.AppBar(title='Sepal Planet active fires explorer (SEPAFE)')\n",
    "\n",
    "content = [\n",
    "    process_tile,\n",
    "]\n",
    "\n",
    "#create a drawer \n",
    "item_process = sw.DrawerItem(\n",
    "    'Map', \n",
    "    'mdi-map-marker-check', \n",
    "    card=\"ui\"\n",
    ").display_tile(content)\n",
    "\n",
    "code_link = 'https://github.com/ingdanielguerrero/planet_active_fires_explorer'\n",
    "wiki_link = 'https://github.com/dfguerrerom/planet_active_fires_explorer/blob/main/doc/en.rst'\n",
    "issue = 'https://github.com/ingdanielguerrero/planet_active_fires_explorer/issues/new'\n",
    "\n",
    "items = [\n",
    "    item_process,\n",
    "]\n",
    "\n",
    "drawer = sw.NavDrawer(\n",
    "    items, \n",
    "    code = code_link, \n",
    "    wiki = wiki_link, \n",
    "    issue = issue, \n",
    "    mini_variant=True\n",
    ").display_drawer(appBar.toggle_button)\n",
    "\n",
    "#build the app \n",
    "app = sw.App(\n",
    "    appBar = appBar,\n",
    "    tiles=content, \n",
    "    navDrawer=drawer\n",
    ").show_tile('ui')\n",
    "#display the app\n",
    "app"
   ]
  }
 ],
 "metadata": {
  "kernelspec": {
   "display_name": " (venv) FIRMS/Planet Active Fires Explorer",
   "language": "python",
   "name": "venv-planet_active_fires_explorer"
  },
  "language_info": {
   "codemirror_mode": {
    "name": "ipython",
    "version": 3
   },
   "file_extension": ".py",
   "mimetype": "text/x-python",
   "name": "python",
   "nbconvert_exporter": "python",
   "pygments_lexer": "ipython3",
   "version": "3.8.10"
  }
 },
 "nbformat": 4,
 "nbformat_minor": 4
}
