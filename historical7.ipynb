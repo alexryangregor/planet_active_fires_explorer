{
 "cells": [
  {
   "cell_type": "code",
   "execution_count": 3,
   "id": "810ce547-c07b-4f00-95f9-15568d0351c6",
   "metadata": {},
   "outputs": [],
   "source": [
    "from urllib.request import urlretrieve"
   ]
  },
  {
   "cell_type": "code",
   "execution_count": 4,
   "id": "2da865d7-d286-432e-884c-4129efcb6666",
   "metadata": {},
   "outputs": [],
   "source": [
    "from pathlib import Path"
   ]
  },
  {
   "cell_type": "code",
   "execution_count": 7,
   "id": "daddfa7c-fae2-44ba-9ce3-df1a2f935b80",
   "metadata": {},
   "outputs": [],
   "source": [
    "out_path = Path('~').expanduser()/'module_results/active_fires/historical/'"
   ]
  },
  {
   "cell_type": "code",
   "execution_count": 8,
   "id": "b1bcb17b-d081-4bac-896b-aa4b252676c0",
   "metadata": {},
   "outputs": [],
   "source": [
    "out_path.mkdir(exist_ok=True, parents=True)"
   ]
  },
  {
   "cell_type": "code",
   "execution_count": 9,
   "id": "efb62568-84d4-4daa-ba3e-fdce0d372655",
   "metadata": {},
   "outputs": [
    {
     "data": {
      "text/plain": [
       "PosixPath('/home/dguerrero/module_results/active_fires/historical')"
      ]
     },
     "execution_count": 9,
     "metadata": {},
     "output_type": "execute_result"
    }
   ],
   "source": [
    "out_path"
   ]
  },
  {
   "cell_type": "code",
   "execution_count": 10,
   "id": "6cf82dcc-4110-450d-8441-af231f673490",
   "metadata": {},
   "outputs": [],
   "source": [
    "out_file = out_path/'fires2020.zip'"
   ]
  },
  {
   "cell_type": "code",
   "execution_count": 12,
   "id": "587c9a47-5db7-4fe1-aadc-38c59ea99faf",
   "metadata": {},
   "outputs": [
    {
     "name": "stdout",
     "output_type": "stream",
     "text": [
      "CPU times: user 314 ms, sys: 315 ms, total: 629 ms\n",
      "Wall time: 6.53 s\n"
     ]
    },
    {
     "data": {
      "text/plain": [
       "(PosixPath('/home/dguerrero/module_results/active_fires/historical/fires2020.zip'),\n",
       " <http.client.HTTPMessage at 0x7fa9c9fe09b0>)"
      ]
     },
     "execution_count": 12,
     "metadata": {},
     "output_type": "execute_result"
    }
   ],
   "source": [
    "%%time\n",
    "urlretrieve(\n",
    "    'https://firms2.modaps.eosdis.nasa.gov/data/country/zips/modis_2020_all_countries.zip',\n",
    "    out_file\n",
    ")"
   ]
  },
  {
   "cell_type": "code",
   "execution_count": 13,
   "id": "2efcaeb0-725b-46e0-bc14-b7fb3bc8a628",
   "metadata": {},
   "outputs": [],
   "source": [
    "from zipfile import ZipFile"
   ]
  },
  {
   "cell_type": "code",
   "execution_count": 17,
   "id": "73814189-cf52-4e2f-bdfb-607081beba5b",
   "metadata": {},
   "outputs": [],
   "source": [
    "import pandas as pd"
   ]
  },
  {
   "cell_type": "code",
   "execution_count": 50,
   "id": "8033a874-92fa-492d-b5ef-b9acb2974d68",
   "metadata": {},
   "outputs": [],
   "source": [
    "from datetime import datetime"
   ]
  },
  {
   "cell_type": "code",
   "execution_count": 18,
   "id": "171f5042-b0aa-4522-a290-a53ff7da3cee",
   "metadata": {},
   "outputs": [],
   "source": [
    "zip_file = ZipFile(out_file)"
   ]
  },
  {
   "cell_type": "code",
   "execution_count": null,
   "id": "eb668011-c3f6-4c13-8f20-08868c42783e",
   "metadata": {},
   "outputs": [],
   "source": []
  },
  {
   "cell_type": "code",
   "execution_count": 43,
   "id": "87d75215-b538-4ed3-94d8-eca17797bec6",
   "metadata": {},
   "outputs": [],
   "source": [
    "# Open all fires into the zipped files and merge thme into one single DataFrame\n",
    "\n",
    "dfs = pd.concat([\n",
    "    pd.read_csv(zip_file.open(text_file.filename))\n",
    "    for text_file in zip_file.infolist()\n",
    "    if text_file.filename.endswith('.csv')\n",
    "])"
   ]
  },
  {
   "cell_type": "code",
   "execution_count": 44,
   "id": "71818430-9cad-4e11-a179-a7d230d90744",
   "metadata": {},
   "outputs": [],
   "source": [
    "# Filter them with its date"
   ]
  },
  {
   "cell_type": "code",
   "execution_count": 59,
   "id": "4bdb0e9a-0991-4eef-859a-bd075a45481b",
   "metadata": {},
   "outputs": [],
   "source": [
    "dfs.acq_date = pd.to_datetime(dfs.acq_date)"
   ]
  },
  {
   "cell_type": "code",
   "execution_count": 60,
   "id": "e657a43d-947d-45b8-9daa-1f09f6c7f041",
   "metadata": {},
   "outputs": [],
   "source": [
    "start = datetime(2020, 1, 1)\n",
    "end = datetime(2020, 1, 20)"
   ]
  },
  {
   "cell_type": "code",
   "execution_count": 63,
   "id": "d36dde97-fd96-4b54-92ff-7aba0509db82",
   "metadata": {},
   "outputs": [],
   "source": [
    "filtered_alerts = dfs[(dfs.acq_date>=start) & (dfs.acq_date<=end)]"
   ]
  },
  {
   "cell_type": "code",
   "execution_count": 118,
   "id": "0755cc95-ac8d-4b19-b834-e4f211b89e76",
   "metadata": {},
   "outputs": [],
   "source": [
    "class PlanetParams(v.Menu, sw.SepalWidget):\n",
    "    \n",
    "    def __init__(self, *args, **kwargs):\n",
    "        \n",
    "        self.offset_y = True\n",
    "        self.close_on_content_click = False\n",
    "        \n",
    "        super().__init__(*args, **kwargs)\n",
    "        \n",
    "        self.btn = sw.Btn(\n",
    "            v_on='menu.on', \n",
    "        )\n",
    "        \n",
    "        \n",
    "        self.close = sw.Btn()\n",
    "        \n",
    "        self.v_slots = [{\n",
    "            'name': 'activator',\n",
    "            'variable': 'menu',\n",
    "            'children': self.btn\n",
    "        }]\n",
    "        \n",
    "        self.children=[\n",
    "            v.Card(children=[\n",
    "                v.CardTitle(children=['Children']),\n",
    "                v.CardText(children=['asdfasdfadsfasdfsda']),\n",
    "                self.close\n",
    "            ])\n",
    "        ]\n",
    "        \n",
    "        self.btn.on_event('click', self.close)\n",
    "    \n",
    "    def close(self, *args):\n",
    "        self.v_model = False"
   ]
  },
  {
   "cell_type": "code",
   "execution_count": 121,
   "id": "20b4be32-677f-4304-b232-c153410807f2",
   "metadata": {},
   "outputs": [],
   "source": [
    "pp = PlanetParams()"
   ]
  },
  {
   "cell_type": "code",
   "execution_count": 122,
   "id": "5f0dc2a2-a3ae-439c-92c3-11a8b09397c7",
   "metadata": {},
   "outputs": [
    {
     "data": {
      "application/vnd.jupyter.widget-view+json": {
       "model_id": "8047ff72ed99433b9360df427e76a6d4",
       "version_major": 2,
       "version_minor": 0
      },
      "text/plain": [
       "Card(children=[PlanetParams(children=[Card(children=[CardTitle(children=['Children']), CardText(children=['asd…"
      ]
     },
     "metadata": {},
     "output_type": "display_data"
    }
   ],
   "source": [
    "v.Card(children=[pp])"
   ]
  },
  {
   "cell_type": "code",
   "execution_count": null,
   "id": "1b4891e5-f017-4ac4-95a0-bc579472f10c",
   "metadata": {},
   "outputs": [],
   "source": []
  },
  {
   "cell_type": "code",
   "execution_count": null,
   "id": "a8fda675-54b5-420c-8307-877b6a6de873",
   "metadata": {},
   "outputs": [],
   "source": []
  }
 ],
 "metadata": {
  "kernelspec": {
   "display_name": "Python 3",
   "language": "python",
   "name": "python3"
  },
  "language_info": {
   "codemirror_mode": {
    "name": "ipython",
    "version": 3
   },
   "file_extension": ".py",
   "mimetype": "text/x-python",
   "name": "python",
   "nbconvert_exporter": "python",
   "pygments_lexer": "ipython3",
   "version": "3.6.9"
  }
 },
 "nbformat": 4,
 "nbformat_minor": 5
}
