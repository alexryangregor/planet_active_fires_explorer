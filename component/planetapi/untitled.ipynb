{
 "cells": [
  {
   "cell_type": "code",
   "execution_count": null,
   "id": "ee1c0373-7545-4531-89d4-5c090721dd89",
   "metadata": {},
   "outputs": [],
   "source": [
    "%load_ext autoreload\n",
    "%autoreload 2"
   ]
  },
  {
   "cell_type": "code",
   "execution_count": null,
   "id": "34cbaa3d-53ec-41ad-85b7-9caacf920203",
   "metadata": {},
   "outputs": [],
   "source": [
    "from sepal_ui.planetapi import PlanetModel, PlanetView\n",
    "import os\n",
    "from copy import deepcopy\n",
    "import ipyvuetify as v"
   ]
  },
  {
   "cell_type": "code",
   "execution_count": null,
   "id": "c2dc2657-202e-403d-9e69-3a483036e409",
   "metadata": {},
   "outputs": [],
   "source": [
    "planet_view = PlanetView()\n",
    "planet_view.w_method.v_model = \"credentials\"\n",
    "planet_view.w_password.v_model = \"Phyra@planet22\"\n",
    "planet_view.w_username.v_model = \"sophyra.sar@gmail.com\"\n",
    "planet_view"
   ]
  },
  {
   "cell_type": "code",
   "execution_count": null,
   "id": "34d5f32e-cc58-4716-9045-338e9db7a91c",
   "metadata": {},
   "outputs": [],
   "source": [
    "planet_view = PlanetView()\n",
    "planet_view.w_method.v_model = \"api_key\"\n",
    "planet_view.w_key.v_model = os.getenv(\"PLANET_API_KEY\")\n",
    "planet_view"
   ]
  },
  {
   "cell_type": "markdown",
   "id": "6915f86a-cb2f-404a-bc86-2b0fc9c06f3d",
   "metadata": {},
   "source": [
    "### Tests"
   ]
  },
  {
   "cell_type": "code",
   "execution_count": null,
   "id": "f83015d8-296c-4202-9d9d-de3fb1847177",
   "metadata": {},
   "outputs": [],
   "source": [
    "%load_ext autoreload\n",
    "%autoreload 2"
   ]
  },
  {
   "cell_type": "code",
   "execution_count": null,
   "id": "fd0ad200-7ab2-4a16-8cfb-2aa9fd54fa79",
   "metadata": {},
   "outputs": [],
   "source": [
    "from sepal_ui.planetapi import PlanetModel\n",
    "from sepal_ui.planetapi.planet_widgets import InfoView"
   ]
  },
  {
   "cell_type": "code",
   "execution_count": null,
   "id": "1a1475f4-0526-43df-a328-7be8ae17f8fb",
   "metadata": {},
   "outputs": [],
   "source": [
    "no_subs = {\"nicfi\": [], \"others\": []}\n",
    "\n",
    "only_others = {\n",
    "    \"nicfi\": [],\n",
    "    \"others\": [\n",
    "        {\n",
    "            \"plan\": {\n",
    "                \"name\": \"level0\",\n",
    "                \"state\": \"active\",\n",
    "            },\n",
    "            \"active_from\": \"2022-03-04T02:28:03.053172+00:00\",\n",
    "            \"active_to\": \"2022-05-04T02:28:03.053172+00:00\",\n",
    "        },\n",
    "    ],\n",
    "}\n",
    "\n",
    "only_nicfi = {\n",
    "    \"nicfi\": [\n",
    "        {\n",
    "            \"plan\": {\n",
    "                \"name\": \"level0\",\n",
    "                \"state\": \"active\",\n",
    "            },\n",
    "            \"active_from\": \"2022-03-04T02:28:03.053172+00:00\",\n",
    "            \"active_to\": \"2022-05-04T02:28:03.053172+00:00\",\n",
    "        },\n",
    "        {\n",
    "            \"plan\": {\n",
    "                \"name\": \"level0\",\n",
    "                \"state\": \"active\",\n",
    "            },\n",
    "            \"active_from\": \"2022-03-04T02:28:03.053172+00:00\",\n",
    "            \"active_to\": \"2022-05-04T02:28:03.053172+00:00\",\n",
    "        },\n",
    "    ],\n",
    "    \"others\": [],\n",
    "}\n",
    "\n",
    "all_subs = {\n",
    "    \"nicfi\": [\n",
    "        {\n",
    "            \"plan\": {\n",
    "                \"name\": \"level0\",\n",
    "                \"state\": \"active\",\n",
    "            },\n",
    "            \"active_from\": \"2022-03-04T02:28:03.053172+00:00\",\n",
    "            \"active_to\": \"2022-05-04T02:28:03.053172+00:00\",\n",
    "        },\n",
    "        {\n",
    "            \"plan\": {\n",
    "                \"name\": \"level0\",\n",
    "                \"state\": \"active\",\n",
    "            },\n",
    "            \"active_from\": \"2022-03-04T02:28:03.053172+00:00\",\n",
    "            \"active_to\": \"2022-05-04T02:28:03.053172+00:00\",\n",
    "        },\n",
    "    ],\n",
    "    \"others\": [\n",
    "        {\n",
    "            \"plan\": {\n",
    "                \"name\": \"others\",\n",
    "                \"state\": \"active\",\n",
    "            },\n",
    "            \"active_from\": \"2022-03-04T02:28:03.053172+00:00\",\n",
    "            \"active_to\": \"2022-05-04T02:28:03.053172+00:00\",\n",
    "        }\n",
    "    ],\n",
    "}\n"
   ]
  },
  {
   "cell_type": "code",
   "execution_count": null,
   "id": "258cd666-af29-47c1-8e04-dc977bbc0b05",
   "metadata": {},
   "outputs": [],
   "source": [
    "model = PlanetModel()\n",
    "info_view = InfoView(model=model)\n",
    "info_view"
   ]
  },
  {
   "cell_type": "code",
   "execution_count": null,
   "id": "bbea6652-745e-4822-ac8c-470c8da32831",
   "metadata": {},
   "outputs": [],
   "source": [
    "# no_subs\n",
    "# only_others\n",
    "# only_nicfi\n",
    "# all_subs"
   ]
  },
  {
   "cell_type": "code",
   "execution_count": null,
   "id": "7b38c379-4ef5-40e3-9c61-7a707e371e91",
   "metadata": {},
   "outputs": [],
   "source": [
    "model.subscriptions = {}\n",
    "model.subscriptions = all_subs"
   ]
  },
  {
   "cell_type": "code",
   "execution_count": null,
   "id": "b400c1e4-ae1d-4217-a56c-0986b2555272",
   "metadata": {},
   "outputs": [],
   "source": [
    "info_view.v_model"
   ]
  },
  {
   "cell_type": "code",
   "execution_count": null,
   "id": "7278e339-7182-4d56-8806-edf57c3c279f",
   "metadata": {},
   "outputs": [],
   "source": []
  },
  {
   "cell_type": "code",
   "execution_count": null,
   "id": "37a6e436-15d0-4c6f-a5ed-ea4851123049",
   "metadata": {},
   "outputs": [],
   "source": []
  }
 ],
 "metadata": {
  "kernelspec": {
   "display_name": "Python 3",
   "language": "python",
   "name": "python3"
  },
  "language_info": {
   "codemirror_mode": {
    "name": "ipython",
    "version": 3
   },
   "file_extension": ".py",
   "mimetype": "text/x-python",
   "name": "python",
   "nbconvert_exporter": "python",
   "pygments_lexer": "ipython3",
   "version": "3.8.10"
  }
 },
 "nbformat": 4,
 "nbformat_minor": 5
}
